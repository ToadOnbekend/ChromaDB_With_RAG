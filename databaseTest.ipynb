{
 "cells": [
  {
   "metadata": {
    "ExecuteTime": {
     "end_time": "2025-01-15T15:48:31.797011Z",
     "start_time": "2025-01-15T15:48:21.256723Z"
    }
   },
   "cell_type": "code",
   "source": [
    "import classLLMv2\n",
    "import classDatabase\n",
    "import classQuery\n"
   ],
   "id": "6647c250d1153a09",
   "outputs": [],
   "execution_count": 2
  },
  {
   "metadata": {
    "ExecuteTime": {
     "end_time": "2025-01-15T15:41:31.206688Z",
     "start_time": "2025-01-15T15:41:30.243622Z"
    }
   },
   "cell_type": "code",
   "source": [
    "agent = classLLMv2.LLMAgent()\n",
    "databasemanager = classDatabase.StorageManager(\"chatIndex\")\n",
    "vectordb = classQuery.QueryEngine()"
   ],
   "id": "34d9ed11c6fc6d4d",
   "outputs": [
    {
     "ename": "NameError",
     "evalue": "name 'classLLMv2' is not defined",
     "output_type": "error",
     "traceback": [
      "\u001B[1;31m---------------------------------------------------------------------------\u001B[0m",
      "\u001B[1;31mNameError\u001B[0m                                 Traceback (most recent call last)",
      "Cell \u001B[1;32mIn[1], line 1\u001B[0m\n\u001B[1;32m----> 1\u001B[0m agent \u001B[38;5;241m=\u001B[39m \u001B[43mclassLLMv2\u001B[49m\u001B[38;5;241m.\u001B[39mLLMAgent()\n\u001B[0;32m      2\u001B[0m databasemanager \u001B[38;5;241m=\u001B[39m classDatabase\u001B[38;5;241m.\u001B[39mStorageManager(\u001B[38;5;124m\"\u001B[39m\u001B[38;5;124mchatIndex\u001B[39m\u001B[38;5;124m\"\u001B[39m)\n\u001B[0;32m      3\u001B[0m vectordb \u001B[38;5;241m=\u001B[39m classQuery\u001B[38;5;241m.\u001B[39mQueryEngine()\n",
      "\u001B[1;31mNameError\u001B[0m: name 'classLLMv2' is not defined"
     ]
    }
   ],
   "execution_count": 1
  },
  {
   "metadata": {
    "ExecuteTime": {
     "end_time": "2024-12-27T13:51:22.685544Z",
     "start_time": "2024-12-27T13:51:22.682390Z"
    }
   },
   "cell_type": "code",
   "source": "agent.initialize(vectordb, databasemanager)",
   "id": "552001b96b36cfeb",
   "outputs": [],
   "execution_count": 20
  },
  {
   "metadata": {
    "ExecuteTime": {
     "end_time": "2024-12-27T13:51:23.613627Z",
     "start_time": "2024-12-27T13:51:23.608200Z"
    }
   },
   "cell_type": "code",
   "source": "agent.SETUP(\"GoombaBase12\")",
   "id": "b324401268b2040f",
   "outputs": [
    {
     "name": "stdout",
     "output_type": "stream",
     "text": [
      "[('GoombaBase12', 'f', 'f', 'f', 'f', 'd', 'f', 2, 2, 2, 'T', '2024-12-27T14:23:46.928499', 3)]\n",
      "{'id_chat': 17, 'messages': [{'role': 'assistant', 'content': 'Hello -- 0 --'}, {'role': 'assistant', 'content': 'Hello -- 1 --'}, {'role': 'assistant', 'content': 'Hello -- 2 --'}, {'role': 'assistant', 'content': 'Hello -- 3 --'}, {'role': 'assistant', 'content': 'Hello -- 4 --'}, {'role': 'assistant', 'content': 'Hello -- 5 --'}, {'role': 'assistant', 'content': 'Hello -- 6 --'}, {'role': 'assistant', 'content': 'Hello -- 7 --'}, {'role': 'assistant', 'content': 'Hello -- 8 --'}, {'role': 'assistant', 'content': 'Hello -- 9 --'}, {'role': 'assistant', 'content': 'Hello -- 10 --'}, {'role': 'assistant', 'content': 'Hello -- 11 --'}, {'role': 'assistant', 'content': 'Hello -- 12 --'}, {'role': 'assistant', 'content': 'Hello -- 13 --'}, {'role': 'assistant', 'content': 'Hello -- 14 --'}, {'role': 'assistant', 'content': 'Hello -- 15 --'}, {'role': 'assistant', 'content': 'Hello -- 16 --'}, {'role': 'assistant', 'content': 'Hello -- 17 --'}, {'role': 'assistant', 'content': 'Hello -- 18 --'}, {'role': 'assistant', 'content': 'Hello -- 19 --'}, {'role': 'assistant', 'content': 'Hello -- 0 --'}, {'role': 'assistant', 'content': 'Hello -- 1 --'}, {'role': 'assistant', 'content': 'Hello -- 2 --'}, {'role': 'assistant', 'content': 'Hello -- 3 --'}, {'role': 'assistant', 'content': 'Hello -- 4 --'}, {'role': 'assistant', 'content': 'Hello -- 5 --'}, {'role': 'assistant', 'content': 'Hello -- 6 --'}, {'role': 'assistant', 'content': 'Hello -- 7 --'}, {'role': 'assistant', 'content': 'Hello -- 8 --'}, {'role': 'assistant', 'content': 'Hello -- 9 --'}, {'role': 'assistant', 'content': 'Hello -- 10 --'}, {'role': 'assistant', 'content': 'Hello -- 11 --'}, {'role': 'assistant', 'content': 'Hello -- 12 --'}, {'role': 'assistant', 'content': 'Hello -- 13 --'}, {'role': 'assistant', 'content': 'Hello -- 14 --'}, {'role': 'assistant', 'content': 'Hello -- 15 --'}, {'role': 'assistant', 'content': 'Hello -- 16 --'}, {'role': 'assistant', 'content': 'Hello -- 17 --'}, {'role': 'assistant', 'content': 'Hello -- 18 --'}, {'role': 'assistant', 'content': 'Hello -- 19 --'}], 'sendInfo': [['Toad is cool', '2024-12-27T14:23:46.940959'], ['Toad is cool', '2024-12-27T14:23:47.949224'], ['Toad is cool', '2024-12-27T14:23:48.967608'], ['Toad is cool', '2024-12-27T14:23:49.984692'], ['Toad is cool', '2024-12-27T14:23:50.995873'], ['Toad is cool', '2024-12-27T14:23:52.015058'], ['Toad is cool', '2024-12-27T14:23:53.022850'], ['Toad is cool', '2024-12-27T14:23:54.039777'], ['Toad is cool', '2024-12-27T14:23:55.048317'], ['Toad is cool', '2024-12-27T14:23:56.064918'], ['Toad is cool', '2024-12-27T14:23:57.083283'], ['Toad is cool', '2024-12-27T14:23:58.100004'], ['Toad is cool', '2024-12-27T14:23:59.107450'], ['Toad is cool', '2024-12-27T14:24:00.115784'], ['Toad is cool', '2024-12-27T14:24:01.132454'], ['Toad is cool', '2024-12-27T14:24:02.151175'], ['Toad is cool', '2024-12-27T14:24:03.158977'], ['Toad is cool', '2024-12-27T14:24:04.167073'], ['Toad is cool', '2024-12-27T14:24:05.175160'], ['Toad is cool', '2024-12-27T14:24:06.191805'], ['Toad is cool', '2024-12-27T14:25:18.614441'], ['Toad is cool', '2024-12-27T14:25:19.622430'], ['Toad is cool', '2024-12-27T14:25:20.640034'], ['Toad is cool', '2024-12-27T14:25:21.648275'], ['Toad is cool', '2024-12-27T14:25:22.664924'], ['Toad is cool', '2024-12-27T14:25:23.673873'], ['Toad is cool', '2024-12-27T14:25:24.691017'], ['Toad is cool', '2024-12-27T14:25:25.708248'], ['Toad is cool', '2024-12-27T14:25:26.725771'], ['Toad is cool', '2024-12-27T14:25:27.733928'], ['Toad is cool', '2024-12-27T14:25:28.741944'], ['Toad is cool', '2024-12-27T14:25:29.759013'], ['Toad is cool', '2024-12-27T14:25:30.776067'], ['Toad is cool', '2024-12-27T14:25:31.794325'], ['Toad is cool', '2024-12-27T14:25:32.813286'], ['Toad is cool', '2024-12-27T14:25:33.824305'], ['Toad is cool', '2024-12-27T14:25:34.842066'], ['Toad is cool', '2024-12-27T14:25:35.850661'], ['Toad is cool', '2024-12-27T14:25:36.868276'], ['Toad is cool', '2024-12-27T14:25:37.886271']], 'init_info': {'nameChat': 'GoombaBase12', 'vectordb': 'f', 'collection': 'f', 'model': 'f', 'modelembedding': 'f', 'modelreranking': 'd', 'embeddingdemensions': 'f', 'topnresults': 2, 'nqueryresults': 2, 'chunkoverlap': 2, 'loadmodellocal': 'T', 'datecreated': '2024-12-27T14:23:46.928499', 'chunksize': 3}}\n"
     ]
    }
   ],
   "execution_count": 21
  },
  {
   "metadata": {
    "ExecuteTime": {
     "end_time": "2024-12-27T14:34:32.476220Z",
     "start_time": "2024-12-27T14:34:32.462468Z"
    }
   },
   "cell_type": "code",
   "source": [
    "import datetime\n",
    "current_time = datetime.now().isoformat()\n",
    "print(current_time)"
   ],
   "id": "86153f6539cc5af6",
   "outputs": [
    {
     "ename": "AttributeError",
     "evalue": "module 'datetime' has no attribute 'now'",
     "output_type": "error",
     "traceback": [
      "\u001B[1;31m---------------------------------------------------------------------------\u001B[0m",
      "\u001B[1;31mAttributeError\u001B[0m                            Traceback (most recent call last)",
      "Cell \u001B[1;32mIn[22], line 2\u001B[0m\n\u001B[0;32m      1\u001B[0m \u001B[38;5;28;01mimport\u001B[39;00m \u001B[38;5;21;01mdatetime\u001B[39;00m\n\u001B[1;32m----> 2\u001B[0m current_time \u001B[38;5;241m=\u001B[39m \u001B[43mdatetime\u001B[49m\u001B[38;5;241;43m.\u001B[39;49m\u001B[43mnow\u001B[49m()\u001B[38;5;241m.\u001B[39misoformat()\n\u001B[0;32m      3\u001B[0m \u001B[38;5;28mprint\u001B[39m(current_time)\n",
      "\u001B[1;31mAttributeError\u001B[0m: module 'datetime' has no attribute 'now'"
     ]
    }
   ],
   "execution_count": 22
  },
  {
   "metadata": {},
   "cell_type": "code",
   "outputs": [],
   "execution_count": null,
   "source": [
    "# Make a tictactoe game\n",
    "\n",
    "#make a 3x3 grid\n",
    "#make a function that prints the grid\n",
    "#make a function that takes in the input of the player\n",
    "#make a function that checks if the player has won\n",
    "#make a function that checks if the grid is full\n",
    "#make a function that checks if the player has won\n",
    "#make a function that checks if the player has won\n",
    "\n"
   ],
   "id": "7e7b9cabcdab6316"
  },
  {
   "metadata": {},
   "cell_type": "code",
   "outputs": [],
   "execution_count": null,
   "source": "",
   "id": "a7673fe91cb587c8"
  },
  {
   "metadata": {},
   "cell_type": "code",
   "outputs": [],
   "execution_count": null,
   "source": "",
   "id": "e9eb5e550415e67b"
  }
 ],
 "metadata": {
  "kernelspec": {
   "display_name": "Python 3",
   "language": "python",
   "name": "python3"
  },
  "language_info": {
   "codemirror_mode": {
    "name": "ipython",
    "version": 2
   },
   "file_extension": ".py",
   "mimetype": "text/x-python",
   "name": "python",
   "nbconvert_exporter": "python",
   "pygments_lexer": "ipython2",
   "version": "2.7.6"
  }
 },
 "nbformat": 4,
 "nbformat_minor": 5
}
