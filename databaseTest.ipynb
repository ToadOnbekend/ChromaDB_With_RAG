{
 "cells": [
  {
   "cell_type": "code",
   "id": "initial_id",
   "metadata": {
    "collapsed": true,
    "ExecuteTime": {
     "end_time": "2024-12-22T15:46:00.845728Z",
     "start_time": "2024-12-22T15:46:00.830594Z"
    }
   },
   "source": [
    "from sqlalchemy import create_engine, Column, Integer, String\n",
    "from sqlalchemy.ext.declarative import declarative_base\n",
    "from sqlalchemy.orm import sessionmaker\n",
    "\n",
    "# Maak de database-engine\n",
    "engine = create_engine('sqlite:///databses/index.db')"
   ],
   "outputs": [],
   "execution_count": 30
  },
  {
   "metadata": {
    "ExecuteTime": {
     "end_time": "2024-12-22T15:45:06.774097Z",
     "start_time": "2024-12-22T15:45:06.769855Z"
    }
   },
   "cell_type": "code",
   "source": "Base = declarative_base()",
   "id": "dceef92258238046",
   "outputs": [
    {
     "name": "stderr",
     "output_type": "stream",
     "text": [
      "C:\\Users\\zhong\\AppData\\Local\\Temp\\ipykernel_19188\\3864161828.py:1: MovedIn20Warning: The ``declarative_base()`` function is now available as sqlalchemy.orm.declarative_base(). (deprecated since: 2.0) (Background on SQLAlchemy 2.0 at: https://sqlalche.me/e/b8d9)\n",
      "  Base = declarative_base()\n"
     ]
    }
   ],
   "execution_count": 27
  },
  {
   "metadata": {
    "ExecuteTime": {
     "end_time": "2024-12-22T15:45:07.681232Z",
     "start_time": "2024-12-22T15:45:07.675806Z"
    }
   },
   "cell_type": "code",
   "source": [
    "class Indexes(Base):\n",
    "    __tablename__ = 'indexBase'  # Naam van de tabel\n",
    "    id = Column(Integer, primary_key=True)\n",
    "    vectordb = Column(String)\n",
    "    collection = Column(String)\n",
    "    chats_tables = Column(String)\n"
   ],
   "id": "cd1fda5d0772b3be",
   "outputs": [],
   "execution_count": 28
  },
  {
   "metadata": {
    "ExecuteTime": {
     "end_time": "2024-12-22T15:45:09.169787Z",
     "start_time": "2024-12-22T15:45:09.165258Z"
    }
   },
   "cell_type": "code",
   "source": "Base.metadata.create_all(engine)",
   "id": "62879ab8865c99ca",
   "outputs": [],
   "execution_count": 29
  }
 ],
 "metadata": {
  "kernelspec": {
   "display_name": "Python 3",
   "language": "python",
   "name": "python3"
  },
  "language_info": {
   "codemirror_mode": {
    "name": "ipython",
    "version": 2
   },
   "file_extension": ".py",
   "mimetype": "text/x-python",
   "name": "python",
   "nbconvert_exporter": "python",
   "pygments_lexer": "ipython2",
   "version": "2.7.6"
  }
 },
 "nbformat": 4,
 "nbformat_minor": 5
}
