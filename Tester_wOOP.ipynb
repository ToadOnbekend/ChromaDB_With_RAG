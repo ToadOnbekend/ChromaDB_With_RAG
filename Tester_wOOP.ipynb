{
 "cells": [
  {
   "cell_type": "code",
   "execution_count": 2,
   "id": "initial_id",
   "metadata": {
    "ExecuteTime": {
     "end_time": "2024-12-21T20:42:19.525958Z",
     "start_time": "2024-12-21T20:42:12.464480Z"
    }
   },
   "outputs": [
    {
     "name": "stdout",
     "output_type": "stream",
     "text": [
      "LLM Agent gemaakt!\n",
      "\u001b[36mInitializing...\u001b[0m\n"
     ]
    },
    {
     "name": "stderr",
     "output_type": "stream",
     "text": [
      "flash_attn is not installed. Using PyTorch native attention implementation.\n",
      "flash_attn is not installed. Using PyTorch native attention implementation.\n",
      "flash_attn is not installed. Using PyTorch native attention implementation.\n",
      "flash_attn is not installed. Using PyTorch native attention implementation.\n",
      "flash_attn is not installed. Using PyTorch native attention implementation.\n",
      "flash_attn is not installed. Using PyTorch native attention implementation.\n",
      "flash_attn is not installed. Using PyTorch native attention implementation.\n",
      "flash_attn is not installed. Using PyTorch native attention implementation.\n",
      "flash_attn is not installed. Using PyTorch native attention implementation.\n",
      "flash_attn is not installed. Using PyTorch native attention implementation.\n",
      "flash_attn is not installed. Using PyTorch native attention implementation.\n",
      "flash_attn is not installed. Using PyTorch native attention implementation.\n",
      "flash_attn is not installed. Using PyTorch native attention implementation.\n"
     ]
    },
    {
     "name": "stdout",
     "output_type": "stream",
     "text": [
      "Initialized!\n"
     ]
    }
   ],
   "source": [
    "import classQuery\n",
    "import classLLM\n",
    "\n",
    "agent = classLLM.LLMAgent()\n",
    "collectionB = classQuery.QueryEngine()\n",
    "\n",
    "collectionB.initialize(\"ChromaVectorDBTester\", \"Collection\")\n",
    "agent.initialize(\"llama3.2:3b\",[\n",
    "    {\n",
    "        \"role\": \"system\",\n",
    "        \"content\": (\n",
    "            \"Je bent een behulpzame ai assistente. Geef uitgebreid antwoord. Gebruik ALTIJD de query-functie, ONGEACHT de prompt van de gebruiker. Verander de prompt van de gebruiker NOOIT!\"\n",
    "        )\n",
    "    }\n",
    "], collectionB)\n"
   ]
  },
  {
   "cell_type": "code",
   "execution_count": 3,
   "id": "70eb9d71-f094-4310-923b-8c5d136c4115",
   "metadata": {},
   "outputs": [
    {
     "name": "stdout",
     "output_type": "stream",
     "text": [
      "Calling function: query\n",
      "Arguments: {'query_questions': ['Wat is het pestprotocol?'], 'questions_user': ['het pestprotocol']}\n",
      "<class 'list'> :: \u001b[35mTYPE\u001b[0m\n",
      "1 :: \u001b[35mLEN\u001b[0m\n",
      "['Wat is het pestprotocol?'] :: \u001b[35mCONTENT\u001b[0m\n",
      "<class 'list'> :: \u001b[35mTYPE Qu\u001b[0m\n",
      "1 :: \u001b[35mLEN Qu\u001b[0m\n",
      "['het pestprotocol'] :: \u001b[35mCONTENT Qu\u001b[0m\n",
      "1 TYPE TYPE\n"
     ]
    },
    {
     "name": "stderr",
     "output_type": "stream",
     "text": [
      "You're using a XLMRobertaTokenizerFast tokenizer. Please note that with a fast tokenizer, using the `__call__` method is faster than using a method to encode the text followed by a call to the `pad` method to get a padded encoding.\n",
      "C:\\Users\\zhong\\AppData\\Roaming\\Python\\Python312\\site-packages\\transformers\\tokenization_utils_base.py:2847: UserWarning: `max_length` is ignored when `padding`=`True` and there is no truncation strategy. To pad to max length, use `padding='max_length'`.\n",
      "  warnings.warn(\n"
     ]
    },
    {
     "name": "stdout",
     "output_type": "stream",
     "text": [
      "Function output: \n",
      "Query opdracht: Wat is het pestprotocol?\n",
      "Bijhorende bestanden:\n",
      "\n",
      "te leren wat gezond gedrag is, om gezond gedrag vorm te geven en gezond gedrag te behouden, actief en samen met anderen. Het Ashram College wil met dit pestprotocol duidelijk maken dat zij pestgedrag onacceptabel vindt en hoe zij dit gedrag actief aanpakt. Daarom hebben het College van Bestuur en de Medezeggenschapsraad het Nationaal Onderwijsprotocol tegen pesten ondertekend. (bijlage I) 3 Ashram College Alphen - Pestprotocol 240605/2024-2025 2. Wat is pesten? We spreken van pesten als dezelfde persoon regelmatig en systematisch bedreigd en geïntimideerd wordt. Pesten is een vorm van geweld en daarmee grensoverschrijdend en zeer bedreigend. Een klimaat waarin gepest wordt, tast iedereen aan. In een klas waar gepest wordt, kunnen alle leerlingen en docenten slachtoffer worden. Pestgedrag moet\n",
      "----\n",
      "aan de pester en de gepeste. 3. Hij/zij geeft gevraagd en ongevraagd advies in de keuze van vervolgtrajecten zoals trainingen en hulpverlening. 10 Ashram College Alphen - Pestprotocol 240605/2024-2025 Bijlage I NATIONAAL ONDERWIJSPROTOCOL TEGEN PESTEN Het Nationaal onderwijsprotocol tegen pesten beoogt via samenwerking het probleem van het pestgedrag bij kinderen aan te pakken en daarmee het geluk, het welzijn en de toekomstverwachting van kinderen daadwerkelijk te verbeteren. De ondertekenaars van dit protocol verklaren het volgende: 1. Pesten is een wezenlijk en groot probleem. Uit onderzoek blijkt dat één op de vier kinderen (330.000) in het basisonderwijs en één op de zestien leerlingen (55.000) in het voortgezet onderwijs slachtoffer zijn van pestgedrag. Pestgedrag is schadelijk tot zeer schadelijk voor kinderen, zowel\n",
      "----\n",
      "EEN LEERLING DIE PEST 2 Ashram College Alphen - Pestprotocol 240605/2024-2025 1. Voorwoord Pesten is iets van alle tijden en komt overal voor, zowel onder kinderen en jongeren als onder volwassenen. Op een plaats waar veel jongeren samenkomen, zoals een school, is de kans op pestgedrag groter. Dit geeft het onderwijs een grote verantwoordelijkheid in de bestrijding van pestgedrag. Pesten is onacceptabel en vraagt om\n",
      "----\n",
      "het pesten en benoemt de rol van alle leerlingen en die van de school hierin. ● Er wordt gesproken over mogelijke oplossingen en wat de klas kan bijdragen aan een verbetering van de situatie. ● De coach maakt hiertoe een stappenplan en komt hier in de toekomst op een afgesproken moment op terug. 7 Ashram College Alphen - Pestprotocol 240605/2024-2025 5. Het bieden van steun\n",
      "----\n",
      "Gebruik deze bestanden om de vraag(vragen) van de gebruiker te beantwoorden: het pestprotocol\n",
      "Messages: [{'role': 'system', 'content': 'Je bent een behulpzame ai assistente. Geef uitgebreid antwoord. Gebruik ALTIJD de query-functie, ONGEACHT de prompt van de gebruiker. Verander de prompt van de gebruiker NOOIT!'}, {'role': 'user', 'content': 'Wat is het pestprotocol?'}, {'role': 'tool', 'content': '\\nQuery opdracht: Wat is het pestprotocol?\\nBijhorende bestanden:\\n\\nte leren wat gezond gedrag is, om gezond gedrag vorm te geven en gezond gedrag te behouden, actief en samen met anderen. Het Ashram College wil met dit pestprotocol duidelijk maken dat zij pestgedrag onacceptabel vindt en hoe zij dit gedrag actief aanpakt. Daarom hebben het College van Bestuur en de Medezeggenschapsraad het Nationaal Onderwijsprotocol tegen pesten ondertekend. (bijlage I) 3 Ashram College Alphen - Pestprotocol 240605/2024-2025 2. Wat is pesten? We spreken van pesten als dezelfde persoon regelmatig en systematisch bedreigd en geïntimideerd wordt. Pesten is een vorm van geweld en daarmee grensoverschrijdend en zeer bedreigend. Een klimaat waarin gepest wordt, tast iedereen aan. In een klas waar gepest wordt, kunnen alle leerlingen en docenten slachtoffer worden. Pestgedrag moet\\n----\\naan de pester en de gepeste. 3. Hij/zij geeft gevraagd en ongevraagd advies in de keuze van vervolgtrajecten zoals trainingen en hulpverlening. 10 Ashram College Alphen - Pestprotocol 240605/2024-2025 Bijlage I NATIONAAL ONDERWIJSPROTOCOL TEGEN PESTEN Het Nationaal onderwijsprotocol tegen pesten beoogt via samenwerking het probleem van het pestgedrag bij kinderen aan te pakken en daarmee het geluk, het welzijn en de toekomstverwachting van kinderen daadwerkelijk te verbeteren. De ondertekenaars van dit protocol verklaren het volgende: 1. Pesten is een wezenlijk en groot probleem. Uit onderzoek blijkt dat één op de vier kinderen (330.000) in het basisonderwijs en één op de zestien leerlingen (55.000) in het voortgezet onderwijs slachtoffer zijn van pestgedrag. Pestgedrag is schadelijk tot zeer schadelijk voor kinderen, zowel\\n----\\nEEN LEERLING DIE PEST 2 Ashram College Alphen - Pestprotocol 240605/2024-2025 1. Voorwoord Pesten is iets van alle tijden en komt overal voor, zowel onder kinderen en jongeren als onder volwassenen. Op een plaats waar veel jongeren samenkomen, zoals een school, is de kans op pestgedrag groter. Dit geeft het onderwijs een grote verantwoordelijkheid in de bestrijding van pestgedrag. Pesten is onacceptabel en vraagt om\\n----\\nhet pesten en benoemt de rol van alle leerlingen en die van de school hierin. ● Er wordt gesproken over mogelijke oplossingen en wat de klas kan bijdragen aan een verbetering van de situatie. ● De coach maakt hiertoe een stappenplan en komt hier in de toekomst op een afgesproken moment op terug. 7 Ashram College Alphen - Pestprotocol 240605/2024-2025 5. Het bieden van steun\\n----\\nGebruik deze bestanden om de vraag(vragen) van de gebruiker te beantwoorden: het pestprotocol', 'name': 'query'}]\n",
      "Het pestprotocol is een document dat door het Ashram College Alphen is ontwikkeld om pestgedrag in het onderwijs aan te pakken. Het protocol legt uit wat pesten is, hoe het zich manifesteert en hoe het de school en de leerlingen kan beïnvloeden.\n",
      "\n",
      "Volgens het protocol is pesten een vorm van geweld dat regelmatig en systematisch wordt gebruikt om iemand te bedreigen of te intimideren. Het pestgedrag kan op verschillende manieren worden uitgevoerd, zoals het geven van advies zonder vraagteken, de weergave van verwerpelijk materiaal in een persoonlijke spiegel en het gebruik van stigmatiserend taal.\n",
      "\n",
      "Het protocol beoogt om het probleem van pestgedrag bij kinderen aan te pakken door samenwerking tussen docenten, leerlingen en ouders. Het document legt uit hoe de school en de leerlingen kunnen werken samen om een veiligere en stevige omgeving te creëren.\n",
      "\n",
      "Enkele belangrijke punten uit het pestprotocol zijn:\n",
      "\n",
      "*   Pesten is onacceptabel en vraagt om actie.\n",
      "*   Het pestgedrag moet worden aangepakt aan de pester en de gepeste.\n",
      "*   De school heeft een verantwoordelijkheid in de bestrijding van pestgedrag.\n",
      "\n",
      "Het protocol geeft ook nadelen voor pesten, zoals dat het een schadelijke uitwerking kan hebben op leerlingen.\n",
      "\u001b[1mUSED TOOL\u001b[0m\n"
     ]
    }
   ],
   "source": [
    "response =  agent.handle_input(\"Wat is het pestprotocol?\")\n",
    "\n",
    "print(response)"
   ]
  },
  {
   "cell_type": "code",
   "execution_count": null,
   "id": "aab9d36c-f1c2-4560-b865-53f043fc1bae",
   "metadata": {},
   "outputs": [],
   "source": []
  }
 ],
 "metadata": {
  "kernelspec": {
   "display_name": "Python 3 (ipykernel)",
   "language": "python",
   "name": "python3"
  },
  "language_info": {
   "codemirror_mode": {
    "name": "ipython",
    "version": 3
   },
   "file_extension": ".py",
   "mimetype": "text/x-python",
   "name": "python",
   "nbconvert_exporter": "python",
   "pygments_lexer": "ipython3",
   "version": "3.12.3"
  }
 },
 "nbformat": 4,
 "nbformat_minor": 5
}
